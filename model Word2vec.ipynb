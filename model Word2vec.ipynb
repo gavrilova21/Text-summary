{
 "cells": [
  {
   "cell_type": "code",
   "execution_count": 2,
   "metadata": {},
   "outputs": [],
   "source": [
    "import os\n",
    "import sys\n",
    "import codecs\n",
    "from gensim.models import Word2Vec\n",
    "from gensim.models.word2vec import LineSentence\n",
    "from gensim.corpora import WikiCorpus"
   ]
  },
  {
   "cell_type": "code",
   "execution_count": 3,
   "metadata": {},
   "outputs": [
   ],
   "source": [
    "f = '//Users//anastasiagavrilova//ruwiki-latest-pages-articles.xml.bz2'\n",
    "with codecs.open('wiki.ru.text', 'w',\n",
    "                 'utf-8', errors='ignore') as fout:\n",
    "    wiki = WikiCorpus(f, lemmatize=False,\n",
    "                      dictionary={}, processes=2)\n",
    "for i, text in enumerate(wiki.get_texts()):\n",
    "    fout.write(u' '.join([t for t in text]) + u'\\n')\n",
    "if i == 49999:\n",
    "    sys.exit()"
   ]
  },
  {
   "cell_type": "code",
   "execution_count": 5,
   "metadata": {},
   "outputs": [],
   "source": [
    "with codecs.open('wiki.ru.text', 'w',\n",
    "                 'utf-8', errors='ignore') as fout:\n",
    "    for i, text in enumerate(wiki.get_texts()):\n",
    "        fout.write(u' '.join([t for t in text]) + u'\\n')\n",
    "        "
   ]
  },
  {
   "cell_type": "code",
   "execution_count": null,
   "metadata": {},
   "outputs": [],
   "source": [
    "import pymorphy2\n",
    "morph = pymorphy2.MorphAnalyzer()\n",
    "with codecs.open('wiki.ru.text', 'r', 'utf-8') as fin:\n",
    "    with codecs.open('wiki_data.txt','w', 'utf-8') as fout:\n",
    "        for i, line in enumerate(fin):\n",
    "            for w in line.strip().split(' '):\n",
    "                fout.write(u'{} '.format(morph.parse(w)[0].normal_form))\n",
    "        fout.write('\\n')"
   ]
  },
  {
   "cell_type": "code",
   "execution_count": 5,
   "metadata": {},
   "outputs": [],
   "source": [
    "model = Word2Vec(LineSentence('wiki_data.txt'),\n",
    "                              size=400,\n",
    "                              window=5,\n",
    "                              min_count=5,\n",
    "                              workers=2)\n",
    "model.init_sims(replace=True) # clear memory\n",
    "model.save('wiki_w2v_new.model')\n"
   ]
  },
  {
   "cell_type": "code",
   "execution_count": 3,
   "metadata": {},
   "outputs": [],
   "source": [
    "m=Word2Vec.load('wiki_w2v_new.model')"
   ]
  },
  {
   "cell_type": "code",
   "execution_count": 4,
   "metadata": {},
   "outputs": [
    {
     "name": "stdout",
     "output_type": "stream",
     "text": [
      "<class 'numpy.ndarray'> 400\n"
     ]
    },
    {
     "name": "stderr",
     "output_type": "stream",
     "text": [
      "/anaconda3/lib/python3.7/site-packages/ipykernel_launcher.py:1: DeprecationWarning: Call to deprecated `__getitem__` (Method will be removed in 4.0.0, use self.wv.__getitem__() instead).\n",
      "  \"\"\"Entry point for launching an IPython kernel.\n"
     ]
    }
   ],
   "source": [
    "vec = m[u'реферат']\n",
    "print( type(vec), vec.size)"
   ]
  },
  {
   "cell_type": "code",
   "execution_count": 14,
   "metadata": {},
   "outputs": [
    {
     "name": "stderr",
     "output_type": "stream",
     "text": [
      "/anaconda3/lib/python3.7/site-packages/ipykernel_launcher.py:1: DeprecationWarning: Call to deprecated `most_similar` (Method will be removed in 4.0.0, use self.wv.most_similar() instead).\n",
      "  \"\"\"Entry point for launching an IPython kernel.\n"
     ]
    },
    {
     "name": "stdout",
     "output_type": "stream",
     "text": [
      "разработчик 0.6753623485565186\n",
      "геймдизайнер 0.623292863368988\n",
      "тестировщик 0.5856466293334961\n",
      "компилятор 0.573258638381958\n",
      "хакер 0.5331533551216125\n",
      "дизайнер 0.5168309211730957\n",
      "отладчик 0.5139071941375732\n",
      "эмулятор 0.511821985244751\n",
      "beos 0.5023317337036133\n",
      "emacs 0.5003443956375122\n",
      "исходник 0.4977104067802429\n",
      "драйвер 0.4970385432243347\n",
      "ассемблер 0.4965395927429199\n",
      "delphi 0.4959178864955902\n",
      "интерпретатор 0.4934024214744568\n"
     ]
    }
   ],
   "source": [
    "for t in m.most_similar(positive=[u'программист'],topn=15):\n",
    "    print(t[0], t[1])"
   ]
  },
  {
   "cell_type": "code",
   "execution_count": null,
   "metadata": {},
   "outputs": [],
   "source": []
  }
 ],
 "metadata": {
  "kernelspec": {
   "display_name": "Python 3",
   "language": "python",
   "name": "python3"
  },
  "language_info": {
   "codemirror_mode": {
    "name": "ipython",
    "version": 3
   },
   "file_extension": ".py",
   "mimetype": "text/x-python",
   "name": "python",
   "nbconvert_exporter": "python",
   "pygments_lexer": "ipython3",
   "version": "3.7.1"
  }
 },
 "nbformat": 4,
 "nbformat_minor": 2
}
